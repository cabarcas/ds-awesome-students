{
 "cells": [
  {
   "cell_type": "markdown",
   "id": "8f9a9084",
   "metadata": {},
   "source": [
    "# selección condicional de un array: \n",
    "## basado en un filtro con una condición y mascara"
   ]
  },
  {
   "cell_type": "code",
   "execution_count": 2,
   "id": "80026478",
   "metadata": {},
   "outputs": [],
   "source": [
    "import numpy as np\n",
    "\n",
    "# como puede fijar una semilla para el random siempre sea el mismo cuando ejecute el código\n",
    "# seed su valor sea un numero fijo \n",
    "arreglo = np.random.seed(123)\n",
    "\n",
    "# permite crear números al azar entre un rango\n",
    "arreglo = np.random.randint(0, 10, 20)"
   ]
  },
  {
   "cell_type": "code",
   "execution_count": 6,
   "id": "db8b266c",
   "metadata": {},
   "outputs": [
    {
     "data": {
      "text/plain": [
       "array([ True,  True,  True,  True,  True,  True,  True,  True,  True,\n",
       "        True,  True,  True,  True,  True,  True,  True,  True,  True,\n",
       "        True,  True])"
      ]
     },
     "execution_count": 6,
     "metadata": {},
     "output_type": "execute_result"
    }
   ],
   "source": [
    "# filtres valores mayores o iguales a 0\n",
    "\n",
    "mascara_numeros_grandes = arreglo >= 0\n",
    "# crea un valor booleano en que verifica que la entrada cumpla la condicion o no\n",
    "mascara_numeros_grandes"
   ]
  },
  {
   "cell_type": "code",
   "execution_count": 7,
   "id": "7713da2e",
   "metadata": {},
   "outputs": [
    {
     "data": {
      "text/plain": [
       "array([1, 9, 2, 7, 4, 5, 5, 3, 5, 1, 4, 8, 7, 5, 3, 9, 6, 8, 9, 3])"
      ]
     },
     "execution_count": 7,
     "metadata": {},
     "output_type": "execute_result"
    }
   ],
   "source": [
    "datos_filtrados = arreglo[mascara_numeros_grandes]\n",
    "datos_filtrados"
   ]
  },
  {
   "cell_type": "code",
   "execution_count": 9,
   "id": "2fe259d3",
   "metadata": {},
   "outputs": [
    {
     "data": {
      "text/plain": [
       "array([False, False,  True, False,  True, False, False, False, False,\n",
       "       False,  True,  True, False, False, False, False,  True,  True,\n",
       "       False, False])"
      ]
     },
     "execution_count": 9,
     "metadata": {},
     "output_type": "execute_result"
    }
   ],
   "source": [
    "# filtrar los elementos pares del array\n",
    "\n",
    "mascara_numeros_grandes = arreglo % 2 == 0\n",
    "\n",
    "mascara_numeros_grandes"
   ]
  },
  {
   "cell_type": "code",
   "execution_count": null,
   "id": "44d3583e",
   "metadata": {},
   "outputs": [],
   "source": [
    "# Operaciones matematicas con array. tiene que coincidir las dimensiones "
   ]
  },
  {
   "cell_type": "code",
   "execution_count": null,
   "id": "3c06865b",
   "metadata": {},
   "outputs": [],
   "source": [
    "# suma de dos arrays de la misma dimesion\n",
    "arreglo_1 = np.random.randint(0, 10, 5)\n",
    "arreglo_2 = np.random.randint(0, 10, 5)"
   ]
  },
  {
   "cell_type": "code",
   "execution_count": null,
   "id": "041f4c4f",
   "metadata": {},
   "outputs": [],
   "source": [
    "#operaciones\n",
    "arreglo_1 - arreglo_2\n",
    "arreglo_1 + arreglo_2\n",
    "arreglo_1 / arreglo_2\n",
    "arreglo_1 * arreglo_2\n",
    "arreglo_1 ** 2\n",
    "\n",
    "# calcula la exponencial a un nuevo arreglo\n",
    "np.exp(arreglo_1)\n",
    "\n",
    "# producto escalar\n",
    "arreglo_1.dot(arreglo_2)\n",
    "# otra forma\n",
    "np.sum(arreglo_1 * arreglo_2)\n",
    "\n",
    "#necesito hacer el arreglo vectorial entre dos productos\n",
    "\n",
    "#radio del volumen de una esfera"
   ]
  },
  {
   "cell_type": "markdown",
   "id": "c8048a0e",
   "metadata": {},
   "source": [
    "# Pandas"
   ]
  },
  {
   "cell_type": "code",
   "execution_count": 17,
   "id": "56789d61",
   "metadata": {},
   "outputs": [],
   "source": [
    "# es una libreria de datos similar a numpy\n",
    "import pandas as pd"
   ]
  },
  {
   "cell_type": "code",
   "execution_count": 23,
   "id": "de4610ff",
   "metadata": {},
   "outputs": [],
   "source": [
    "# crear un dataframe de estudiantes de matematica a partir de un diccionario\n",
    "\n",
    "estudiantes_ds = {\n",
    "    \"nombre\": [\n",
    "        \"Claudio Bahamonde\",\n",
    "        \"Felipe Abarzúa\",\n",
    "        \"Diego Rodriguez\",\n",
    "        \"Javier Pizarro\",\n",
    "        \"Smilling Battaglini\",\n",
    "        \"Pamela Labbé\",\n",
    "        \"Marilina Fuentes\",\n",
    "    ],\n",
    "    \"edad\": [25, 26, 27, 28, 29, 30, 31],\n",
    "    \"nota\": [1, 2, 3, 4, 5, 6, 7],\n",
    "}\n",
    "\n",
    "estudiantes_ds_df = pd.DataFrame(estudiantes_ds)"
   ]
  },
  {
   "cell_type": "code",
   "execution_count": 24,
   "id": "826b1fdd",
   "metadata": {},
   "outputs": [
    {
     "data": {
      "text/html": [
       "<div>\n",
       "<style scoped>\n",
       "    .dataframe tbody tr th:only-of-type {\n",
       "        vertical-align: middle;\n",
       "    }\n",
       "\n",
       "    .dataframe tbody tr th {\n",
       "        vertical-align: top;\n",
       "    }\n",
       "\n",
       "    .dataframe thead th {\n",
       "        text-align: right;\n",
       "    }\n",
       "</style>\n",
       "<table border=\"1\" class=\"dataframe\">\n",
       "  <thead>\n",
       "    <tr style=\"text-align: right;\">\n",
       "      <th></th>\n",
       "      <th>nombre</th>\n",
       "      <th>edad</th>\n",
       "      <th>nota</th>\n",
       "    </tr>\n",
       "  </thead>\n",
       "  <tbody>\n",
       "    <tr>\n",
       "      <th>0</th>\n",
       "      <td>Claudio Bahamonde</td>\n",
       "      <td>25</td>\n",
       "      <td>1</td>\n",
       "    </tr>\n",
       "    <tr>\n",
       "      <th>1</th>\n",
       "      <td>Felipe Abarzúa</td>\n",
       "      <td>26</td>\n",
       "      <td>2</td>\n",
       "    </tr>\n",
       "    <tr>\n",
       "      <th>2</th>\n",
       "      <td>Diego Rodriguez</td>\n",
       "      <td>27</td>\n",
       "      <td>3</td>\n",
       "    </tr>\n",
       "    <tr>\n",
       "      <th>3</th>\n",
       "      <td>Javier Pizarro</td>\n",
       "      <td>28</td>\n",
       "      <td>4</td>\n",
       "    </tr>\n",
       "    <tr>\n",
       "      <th>4</th>\n",
       "      <td>Smilling Battaglini</td>\n",
       "      <td>29</td>\n",
       "      <td>5</td>\n",
       "    </tr>\n",
       "    <tr>\n",
       "      <th>5</th>\n",
       "      <td>Pamela Labbé</td>\n",
       "      <td>30</td>\n",
       "      <td>6</td>\n",
       "    </tr>\n",
       "    <tr>\n",
       "      <th>6</th>\n",
       "      <td>Marilina Fuentes</td>\n",
       "      <td>31</td>\n",
       "      <td>7</td>\n",
       "    </tr>\n",
       "  </tbody>\n",
       "</table>\n",
       "</div>"
      ],
      "text/plain": [
       "                nombre  edad  nota\n",
       "0    Claudio Bahamonde    25     1\n",
       "1       Felipe Abarzúa    26     2\n",
       "2      Diego Rodriguez    27     3\n",
       "3       Javier Pizarro    28     4\n",
       "4  Smilling Battaglini    29     5\n",
       "5         Pamela Labbé    30     6\n",
       "6     Marilina Fuentes    31     7"
      ]
     },
     "execution_count": 24,
     "metadata": {},
     "output_type": "execute_result"
    }
   ],
   "source": [
    "#key valores columnas, values los valores\n",
    "\n",
    "# visualizar\n",
    "estudiantes_ds_df"
   ]
  },
  {
   "cell_type": "code",
   "execution_count": 26,
   "id": "6615b1f5",
   "metadata": {},
   "outputs": [
    {
     "data": {
      "text/html": [
       "<div>\n",
       "<style scoped>\n",
       "    .dataframe tbody tr th:only-of-type {\n",
       "        vertical-align: middle;\n",
       "    }\n",
       "\n",
       "    .dataframe tbody tr th {\n",
       "        vertical-align: top;\n",
       "    }\n",
       "\n",
       "    .dataframe thead th {\n",
       "        text-align: right;\n",
       "    }\n",
       "</style>\n",
       "<table border=\"1\" class=\"dataframe\">\n",
       "  <thead>\n",
       "    <tr style=\"text-align: right;\">\n",
       "      <th></th>\n",
       "      <th>nombre</th>\n",
       "      <th>edad</th>\n",
       "      <th>nota</th>\n",
       "    </tr>\n",
       "  </thead>\n",
       "  <tbody>\n",
       "    <tr>\n",
       "      <th>0</th>\n",
       "      <td>Claudio Bahamonde</td>\n",
       "      <td>25</td>\n",
       "      <td>1</td>\n",
       "    </tr>\n",
       "    <tr>\n",
       "      <th>1</th>\n",
       "      <td>Felipe Abarzúa</td>\n",
       "      <td>26</td>\n",
       "      <td>2</td>\n",
       "    </tr>\n",
       "  </tbody>\n",
       "</table>\n",
       "</div>"
      ],
      "text/plain": [
       "              nombre  edad  nota\n",
       "0  Claudio Bahamonde    25     1\n",
       "1     Felipe Abarzúa    26     2"
      ]
     },
     "execution_count": 26,
     "metadata": {},
     "output_type": "execute_result"
    }
   ],
   "source": [
    "# muestra las primeras 4 filas del dataframe, coloco 2 muestra solo dos\n",
    "estudiantes_ds_df.head(2)"
   ]
  },
  {
   "cell_type": "code",
   "execution_count": 27,
   "id": "bc98229a",
   "metadata": {},
   "outputs": [
    {
     "data": {
      "text/plain": [
       "nombre    object\n",
       "edad       int64\n",
       "nota       int64\n",
       "dtype: object"
      ]
     },
     "execution_count": 27,
     "metadata": {},
     "output_type": "execute_result"
    }
   ],
   "source": [
    "# tipos de las columnas\n",
    "estudiantes_ds_df.dtypes"
   ]
  },
  {
   "cell_type": "code",
   "execution_count": 28,
   "id": "cd81ebc2",
   "metadata": {},
   "outputs": [
    {
     "data": {
      "text/html": [
       "<div>\n",
       "<style scoped>\n",
       "    .dataframe tbody tr th:only-of-type {\n",
       "        vertical-align: middle;\n",
       "    }\n",
       "\n",
       "    .dataframe tbody tr th {\n",
       "        vertical-align: top;\n",
       "    }\n",
       "\n",
       "    .dataframe thead th {\n",
       "        text-align: right;\n",
       "    }\n",
       "</style>\n",
       "<table border=\"1\" class=\"dataframe\">\n",
       "  <thead>\n",
       "    <tr style=\"text-align: right;\">\n",
       "      <th></th>\n",
       "      <th>edad</th>\n",
       "      <th>nota</th>\n",
       "    </tr>\n",
       "  </thead>\n",
       "  <tbody>\n",
       "    <tr>\n",
       "      <th>count</th>\n",
       "      <td>7.000000</td>\n",
       "      <td>7.000000</td>\n",
       "    </tr>\n",
       "    <tr>\n",
       "      <th>mean</th>\n",
       "      <td>28.000000</td>\n",
       "      <td>4.000000</td>\n",
       "    </tr>\n",
       "    <tr>\n",
       "      <th>std</th>\n",
       "      <td>2.160247</td>\n",
       "      <td>2.160247</td>\n",
       "    </tr>\n",
       "    <tr>\n",
       "      <th>min</th>\n",
       "      <td>25.000000</td>\n",
       "      <td>1.000000</td>\n",
       "    </tr>\n",
       "    <tr>\n",
       "      <th>25%</th>\n",
       "      <td>26.500000</td>\n",
       "      <td>2.500000</td>\n",
       "    </tr>\n",
       "    <tr>\n",
       "      <th>50%</th>\n",
       "      <td>28.000000</td>\n",
       "      <td>4.000000</td>\n",
       "    </tr>\n",
       "    <tr>\n",
       "      <th>75%</th>\n",
       "      <td>29.500000</td>\n",
       "      <td>5.500000</td>\n",
       "    </tr>\n",
       "    <tr>\n",
       "      <th>max</th>\n",
       "      <td>31.000000</td>\n",
       "      <td>7.000000</td>\n",
       "    </tr>\n",
       "  </tbody>\n",
       "</table>\n",
       "</div>"
      ],
      "text/plain": [
       "            edad      nota\n",
       "count   7.000000  7.000000\n",
       "mean   28.000000  4.000000\n",
       "std     2.160247  2.160247\n",
       "min    25.000000  1.000000\n",
       "25%    26.500000  2.500000\n",
       "50%    28.000000  4.000000\n",
       "75%    29.500000  5.500000\n",
       "max    31.000000  7.000000"
      ]
     },
     "execution_count": 28,
     "metadata": {},
     "output_type": "execute_result"
    }
   ],
   "source": [
    "# hacer una estadistica descriptiva\n",
    "estudiantes_ds_df.describe()\n",
    "\n",
    "# en la practica dan los formatos usualmente en .csv en pandas se pueden acceder a esos datos"
   ]
  },
  {
   "cell_type": "code",
   "execution_count": null,
   "id": "783cd0be",
   "metadata": {},
   "outputs": [],
   "source": [
    " # como usar pandas con datos externos"
   ]
  }
 ],
 "metadata": {
  "kernelspec": {
   "display_name": "Python 3 (ipykernel)",
   "language": "python",
   "name": "python3"
  },
  "language_info": {
   "codemirror_mode": {
    "name": "ipython",
    "version": 3
   },
   "file_extension": ".py",
   "mimetype": "text/x-python",
   "name": "python",
   "nbconvert_exporter": "python",
   "pygments_lexer": "ipython3",
   "version": "3.10.9"
  }
 },
 "nbformat": 4,
 "nbformat_minor": 5
}
